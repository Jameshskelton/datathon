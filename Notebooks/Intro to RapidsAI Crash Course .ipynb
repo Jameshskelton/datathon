{
 "cells": [
  {
   "cell_type": "code",
   "execution_count": null,
   "metadata": {
    "id": "16c3U164cBlJ"
   },
   "outputs": [],
   "source": []
  },
  {
   "cell_type": "markdown",
   "metadata": {
    "id": "89na8MSicB3T"
   },
   "source": [
    "# Welcome to Google Colab\n",
    "\n",
    "Colab is essentially Google's way of hosting a [jupyter notebook](https://jupyter.org/). A very popular tool to use as a data scientist!\n",
    "\n",
    "It allows us to write code, documentation, and output visuals all in one place.\n",
    "\n",
    "To be able to edit the code in this workshop. Please make a copy for yourself\n",
    "\n",
    "`file > save a copy in drive`\n",
    "\n",
    "This should open a new tab with your own copy of this notebook. It can take a minute to load.\n",
    "\n",
    "Colab also gives you some options for running complicated computations such as training deep learning model. To see access those options:\n",
    "\n",
    "`Runtime > change runtime type` Select `GPU`, `TPU`, or `None`\n",
    "\n",
    "We don't need to change anything for this workshop, but its a great resource if you start learning deep learning and don't have a powerful GPU at home. \n",
    "\n",
    "This is a text cell. \n",
    "\n",
    "You can add a new text cell by clicking `+ Text` above. \n",
    "\n",
    "It does not highlight wrong spelling. I apologize for any typos!"
   ]
  },
  {
   "cell_type": "markdown",
   "metadata": {
    "id": "XOnSji0EcMej"
   },
   "source": [
    "# Before we get started\n",
    "\n",
    "Welcome to the Intro to Rapids crash course for the Galvanize Datathon. \n",
    "\n",
    "### What is Rapids AI? \n",
    "\n",
    "The RAPIDS suite of software libraries, built on CUDA-X AI, gives you the freedom to execute end-to-end data science and analytics pipelines entirely on GPUs. It relies on NVIDIA® CUDA® primitives for low-level compute optimization, but exposes that GPU parallelism and high-bandwidth memory speed through user-friendly Python interfaces.\n",
    "\n",
    "RAPIDS also focuses on common data preparation tasks for analytics and data science. This includes a familiar dataframe API that integrates with a variety of machine learning algorithms for end-to-end pipeline accelerations without paying typical serialization costs. RAPIDS also includes support for multi-node, multi-GPU deployments, enabling vastly accelerated processing and training on much larger dataset size\n",
    "\n",
    "In short: the rapids suite allows data scientists to do their entire workflow in a GPU environment, and facilitates distributed computing to to more quickly and effectively train models using big data. \n",
    "\n",
    "Read more about Rapids AI and its capabilities [here](https://rapids.ai/about.html). "
   ]
  },
  {
   "cell_type": "markdown",
   "metadata": {
    "id": "zuHz55SHdlLh"
   },
   "source": [
    "More Resources: Look through these on your own after the lecture. \n",
    "\n",
    "#### General Rapids\n",
    "- [Rapids docs](https://docs.rapids.ai/)\n",
    "- [Official Rapids getting started notebooks](https://github.com/rapidsai-community/notebooks-contrib/tree/main/getting_started_materials/intro_tutorials_and_guides)\n",
    "#### cuML demos and guides\n",
    "- [Example cuML notebook: Training and Evaluating Machine Learning Models in cuML](https://github.com/rapidsai/cuml/blob/main/docs/source/estimator_intro.ipynb)\n",
    "- [More cuML demos](https://github.com/rapidsai/cuml/tree/main/notebooks)\n",
    "- [Community tutorials and guides](https://github.com/rapidsai-community/notebooks-contrib/tree/main/community_tutorials_and_guides)\n",
    "#### Time series analytics and machine learning with Rapids\n",
    "- [Medium article on time series with rapids](https://medium.com/rapids-ai/arima-forecast-large-time-series-datasets-with-rapids-cuml-18428a00d02e)\n",
    "- [Free book on forecasting](https://otexts.com/fpp2/seasonal-arima.html)\n",
    "\n",
    "Linear regression: predicting bikeshare rentals, could be useful if adapted to timeseries. \n",
    "https://github.com/rapidsai-community/notebooks-contrib/tree/main/the_archive/archived_rapids_blog_notebooks/regression\n"
   ]
  },
  {
   "cell_type": "markdown",
   "metadata": {
    "id": "9oOCJ4NYMjY7"
   },
   "source": [
    "# cuDF and cuML Examples #\n",
    "\n",
    "Now you can run code! \n",
    "\n",
    "What follows are basic examples where all processing takes place on the GPU."
   ]
  },
  {
   "cell_type": "markdown",
   "metadata": {
    "id": "kSERwr3H_j3H"
   },
   "source": [
    "## Pandas \n",
    "Data scientists typically work with two types of data: unstructured and structured. Unstructured data often comes in the form of text, images, or videos. Structured data - as the name suggests - comes in a structured form, often represented by a table or CSV. We'll focus the majority of these tutorials on working with these types of data.\n",
    "\n",
    "There exist many tools in the Python ecosystem for working with structured, tabular data but few are as widely used as Pandas. Pandas represents data in a table and allows a data scientist to manipulate the data to perform a number of useful operations such as filtering, transforming, aggregating, merging, visualizing and many more.\n",
    "\n",
    "For more information on Pandas, check out the excellent documentation: http://pandas.pydata.org/pandas-docs/stable/\n",
    "\n",
    "Below we show how to create a Pandas DataFrame, an internal object for representing tabular data."
   ]
  },
  {
   "cell_type": "code",
   "execution_count": 1,
   "metadata": {
    "colab": {
     "base_uri": "https://localhost:8080/",
     "height": 416
    },
    "id": "HUc6PIbU_jFt",
    "outputId": "5bb32190-1d32-46f5-dfa6-84f589c05d77"
   },
   "outputs": [
    {
     "data": {
      "text/html": [
       "<div>\n",
       "<style scoped>\n",
       "    .dataframe tbody tr th:only-of-type {\n",
       "        vertical-align: middle;\n",
       "    }\n",
       "\n",
       "    .dataframe tbody tr th {\n",
       "        vertical-align: top;\n",
       "    }\n",
       "\n",
       "    .dataframe thead th {\n",
       "        text-align: right;\n",
       "    }\n",
       "</style>\n",
       "<table border=\"1\" class=\"dataframe\">\n",
       "  <thead>\n",
       "    <tr style=\"text-align: right;\">\n",
       "      <th></th>\n",
       "      <th>total_bill</th>\n",
       "      <th>tip</th>\n",
       "      <th>sex</th>\n",
       "      <th>smoker</th>\n",
       "      <th>day</th>\n",
       "      <th>time</th>\n",
       "      <th>size</th>\n",
       "      <th>tip_percentage</th>\n",
       "    </tr>\n",
       "  </thead>\n",
       "  <tbody>\n",
       "    <tr>\n",
       "      <th>0</th>\n",
       "      <td>16.99</td>\n",
       "      <td>1.01</td>\n",
       "      <td>Female</td>\n",
       "      <td>No</td>\n",
       "      <td>Sun</td>\n",
       "      <td>Dinner</td>\n",
       "      <td>2</td>\n",
       "      <td>5.944673</td>\n",
       "    </tr>\n",
       "    <tr>\n",
       "      <th>1</th>\n",
       "      <td>10.34</td>\n",
       "      <td>1.66</td>\n",
       "      <td>Male</td>\n",
       "      <td>No</td>\n",
       "      <td>Sun</td>\n",
       "      <td>Dinner</td>\n",
       "      <td>3</td>\n",
       "      <td>16.054159</td>\n",
       "    </tr>\n",
       "    <tr>\n",
       "      <th>2</th>\n",
       "      <td>21.01</td>\n",
       "      <td>3.50</td>\n",
       "      <td>Male</td>\n",
       "      <td>No</td>\n",
       "      <td>Sun</td>\n",
       "      <td>Dinner</td>\n",
       "      <td>3</td>\n",
       "      <td>16.658734</td>\n",
       "    </tr>\n",
       "    <tr>\n",
       "      <th>3</th>\n",
       "      <td>23.68</td>\n",
       "      <td>3.31</td>\n",
       "      <td>Male</td>\n",
       "      <td>No</td>\n",
       "      <td>Sun</td>\n",
       "      <td>Dinner</td>\n",
       "      <td>2</td>\n",
       "      <td>13.978041</td>\n",
       "    </tr>\n",
       "    <tr>\n",
       "      <th>4</th>\n",
       "      <td>24.59</td>\n",
       "      <td>3.61</td>\n",
       "      <td>Female</td>\n",
       "      <td>No</td>\n",
       "      <td>Sun</td>\n",
       "      <td>Dinner</td>\n",
       "      <td>4</td>\n",
       "      <td>14.680765</td>\n",
       "    </tr>\n",
       "    <tr>\n",
       "      <th>...</th>\n",
       "      <td>...</td>\n",
       "      <td>...</td>\n",
       "      <td>...</td>\n",
       "      <td>...</td>\n",
       "      <td>...</td>\n",
       "      <td>...</td>\n",
       "      <td>...</td>\n",
       "      <td>...</td>\n",
       "    </tr>\n",
       "    <tr>\n",
       "      <th>239</th>\n",
       "      <td>29.03</td>\n",
       "      <td>5.92</td>\n",
       "      <td>Male</td>\n",
       "      <td>No</td>\n",
       "      <td>Sat</td>\n",
       "      <td>Dinner</td>\n",
       "      <td>3</td>\n",
       "      <td>20.392697</td>\n",
       "    </tr>\n",
       "    <tr>\n",
       "      <th>240</th>\n",
       "      <td>27.18</td>\n",
       "      <td>2.00</td>\n",
       "      <td>Female</td>\n",
       "      <td>Yes</td>\n",
       "      <td>Sat</td>\n",
       "      <td>Dinner</td>\n",
       "      <td>2</td>\n",
       "      <td>7.358352</td>\n",
       "    </tr>\n",
       "    <tr>\n",
       "      <th>241</th>\n",
       "      <td>22.67</td>\n",
       "      <td>2.00</td>\n",
       "      <td>Male</td>\n",
       "      <td>Yes</td>\n",
       "      <td>Sat</td>\n",
       "      <td>Dinner</td>\n",
       "      <td>2</td>\n",
       "      <td>8.822232</td>\n",
       "    </tr>\n",
       "    <tr>\n",
       "      <th>242</th>\n",
       "      <td>17.82</td>\n",
       "      <td>1.75</td>\n",
       "      <td>Male</td>\n",
       "      <td>No</td>\n",
       "      <td>Sat</td>\n",
       "      <td>Dinner</td>\n",
       "      <td>2</td>\n",
       "      <td>9.820426</td>\n",
       "    </tr>\n",
       "    <tr>\n",
       "      <th>243</th>\n",
       "      <td>18.78</td>\n",
       "      <td>3.00</td>\n",
       "      <td>Female</td>\n",
       "      <td>No</td>\n",
       "      <td>Thur</td>\n",
       "      <td>Dinner</td>\n",
       "      <td>2</td>\n",
       "      <td>15.974441</td>\n",
       "    </tr>\n",
       "  </tbody>\n",
       "</table>\n",
       "<p>244 rows × 8 columns</p>\n",
       "</div>"
      ],
      "text/plain": [
       "     total_bill   tip     sex smoker   day    time  size  tip_percentage\n",
       "0         16.99  1.01  Female     No   Sun  Dinner     2        5.944673\n",
       "1         10.34  1.66    Male     No   Sun  Dinner     3       16.054159\n",
       "2         21.01  3.50    Male     No   Sun  Dinner     3       16.658734\n",
       "3         23.68  3.31    Male     No   Sun  Dinner     2       13.978041\n",
       "4         24.59  3.61  Female     No   Sun  Dinner     4       14.680765\n",
       "..          ...   ...     ...    ...   ...     ...   ...             ...\n",
       "239       29.03  5.92    Male     No   Sat  Dinner     3       20.392697\n",
       "240       27.18  2.00  Female    Yes   Sat  Dinner     2        7.358352\n",
       "241       22.67  2.00    Male    Yes   Sat  Dinner     2        8.822232\n",
       "242       17.82  1.75    Male     No   Sat  Dinner     2        9.820426\n",
       "243       18.78  3.00  Female     No  Thur  Dinner     2       15.974441\n",
       "\n",
       "[244 rows x 8 columns]"
      ]
     },
     "execution_count": 1,
     "metadata": {},
     "output_type": "execute_result"
    }
   ],
   "source": [
    "import pandas as pd\n",
    "import requests\n",
    "\n",
    "# download CSV file from GitHub\n",
    "url=\"https://github.com/plotly/datasets/raw/master/tips.csv\"\n",
    "# read in like usual using read_csv()\n",
    "df = pd.read_csv(url)\n",
    "df['tip_percentage'] = df['tip']/df['total_bill']*100\n",
    "\n",
    "df"
   ]
  },
  {
   "cell_type": "markdown",
   "metadata": {
    "id": "V38dg-oUJtEO"
   },
   "source": [
    "# [cuDF](https://github.com/rapidsai/cudf)\n",
    "\n",
    "Pandas is fantastic for working with small datasets that fit into your system's memory. However, datasets are growing larger and data scientists are working with increasingly complex workloads - the need for accelerated compute arises.\n",
    "\n",
    "cuDF is a package within the RAPIDS ecosystem that allows data scientists to easily migrate their existing Pandas workflows from CPU to GPU, where computations can leverage the immense parallelization that GPUs provide.\n",
    "\n",
    "Below, we show how to create a cuDF DataFrame."
   ]
  },
  {
   "cell_type": "code",
   "execution_count": 4,
   "metadata": {
    "colab": {
     "base_uri": "https://localhost:8080/"
    },
    "id": "EwaJSKuswsNi",
    "outputId": "9ff1d0ff-fd46-4cce-e774-01d36411ad53"
   },
   "outputs": [
    {
     "name": "stdout",
     "output_type": "stream",
     "text": [
      "size\n",
      "6    15.622920\n",
      "1    21.729202\n",
      "4    14.594901\n",
      "3    15.215685\n",
      "2    16.571919\n",
      "5    14.149549\n",
      "Name: tip_percentage, dtype: float64\n"
     ]
    }
   ],
   "source": [
    "import cudf\n",
    "# Note, cudf on colab takes a second to import. your cell is running normally\n",
    "import io\n",
    "\n",
    "# Cudf is capable of reading a csv just like pandas\n",
    "tips_df = cudf.read_csv(url)\n",
    "tips_df\n",
    "# feature engineering can also be similarly achieved to pandas\n",
    "tips_df['tip_percentage'] = tips_df['tip']/tips_df['total_bill']*100\n",
    "\n",
    "# let's display average tip by dining party size\n",
    "print(tips_df.groupby('size').tip_percentage.mean())"
   ]
  },
  {
   "cell_type": "code",
   "execution_count": 5,
   "metadata": {
    "colab": {
     "base_uri": "https://localhost:8080/",
     "height": 416
    },
    "id": "dNu5NHYw-vv8",
    "outputId": "518ff866-6b36-42bf-ab47-d9f589223c4a"
   },
   "outputs": [
    {
     "data": {
      "text/html": [
       "<div>\n",
       "<style scoped>\n",
       "    .dataframe tbody tr th:only-of-type {\n",
       "        vertical-align: middle;\n",
       "    }\n",
       "\n",
       "    .dataframe tbody tr th {\n",
       "        vertical-align: top;\n",
       "    }\n",
       "\n",
       "    .dataframe thead th {\n",
       "        text-align: right;\n",
       "    }\n",
       "</style>\n",
       "<table border=\"1\" class=\"dataframe\">\n",
       "  <thead>\n",
       "    <tr style=\"text-align: right;\">\n",
       "      <th></th>\n",
       "      <th>total_bill</th>\n",
       "      <th>tip</th>\n",
       "      <th>sex</th>\n",
       "      <th>smoker</th>\n",
       "      <th>day</th>\n",
       "      <th>time</th>\n",
       "      <th>size</th>\n",
       "      <th>tip_percentage</th>\n",
       "    </tr>\n",
       "  </thead>\n",
       "  <tbody>\n",
       "    <tr>\n",
       "      <th>0</th>\n",
       "      <td>16.99</td>\n",
       "      <td>1.01</td>\n",
       "      <td>Female</td>\n",
       "      <td>No</td>\n",
       "      <td>Sun</td>\n",
       "      <td>Dinner</td>\n",
       "      <td>2</td>\n",
       "      <td>5.944673</td>\n",
       "    </tr>\n",
       "    <tr>\n",
       "      <th>1</th>\n",
       "      <td>10.34</td>\n",
       "      <td>1.66</td>\n",
       "      <td>Male</td>\n",
       "      <td>No</td>\n",
       "      <td>Sun</td>\n",
       "      <td>Dinner</td>\n",
       "      <td>3</td>\n",
       "      <td>16.054159</td>\n",
       "    </tr>\n",
       "    <tr>\n",
       "      <th>2</th>\n",
       "      <td>21.01</td>\n",
       "      <td>3.50</td>\n",
       "      <td>Male</td>\n",
       "      <td>No</td>\n",
       "      <td>Sun</td>\n",
       "      <td>Dinner</td>\n",
       "      <td>3</td>\n",
       "      <td>16.658734</td>\n",
       "    </tr>\n",
       "    <tr>\n",
       "      <th>3</th>\n",
       "      <td>23.68</td>\n",
       "      <td>3.31</td>\n",
       "      <td>Male</td>\n",
       "      <td>No</td>\n",
       "      <td>Sun</td>\n",
       "      <td>Dinner</td>\n",
       "      <td>2</td>\n",
       "      <td>13.978041</td>\n",
       "    </tr>\n",
       "    <tr>\n",
       "      <th>4</th>\n",
       "      <td>24.59</td>\n",
       "      <td>3.61</td>\n",
       "      <td>Female</td>\n",
       "      <td>No</td>\n",
       "      <td>Sun</td>\n",
       "      <td>Dinner</td>\n",
       "      <td>4</td>\n",
       "      <td>14.680765</td>\n",
       "    </tr>\n",
       "    <tr>\n",
       "      <th>...</th>\n",
       "      <td>...</td>\n",
       "      <td>...</td>\n",
       "      <td>...</td>\n",
       "      <td>...</td>\n",
       "      <td>...</td>\n",
       "      <td>...</td>\n",
       "      <td>...</td>\n",
       "      <td>...</td>\n",
       "    </tr>\n",
       "    <tr>\n",
       "      <th>239</th>\n",
       "      <td>29.03</td>\n",
       "      <td>5.92</td>\n",
       "      <td>Male</td>\n",
       "      <td>No</td>\n",
       "      <td>Sat</td>\n",
       "      <td>Dinner</td>\n",
       "      <td>3</td>\n",
       "      <td>20.392697</td>\n",
       "    </tr>\n",
       "    <tr>\n",
       "      <th>240</th>\n",
       "      <td>27.18</td>\n",
       "      <td>2.00</td>\n",
       "      <td>Female</td>\n",
       "      <td>Yes</td>\n",
       "      <td>Sat</td>\n",
       "      <td>Dinner</td>\n",
       "      <td>2</td>\n",
       "      <td>7.358352</td>\n",
       "    </tr>\n",
       "    <tr>\n",
       "      <th>241</th>\n",
       "      <td>22.67</td>\n",
       "      <td>2.00</td>\n",
       "      <td>Male</td>\n",
       "      <td>Yes</td>\n",
       "      <td>Sat</td>\n",
       "      <td>Dinner</td>\n",
       "      <td>2</td>\n",
       "      <td>8.822232</td>\n",
       "    </tr>\n",
       "    <tr>\n",
       "      <th>242</th>\n",
       "      <td>17.82</td>\n",
       "      <td>1.75</td>\n",
       "      <td>Male</td>\n",
       "      <td>No</td>\n",
       "      <td>Sat</td>\n",
       "      <td>Dinner</td>\n",
       "      <td>2</td>\n",
       "      <td>9.820426</td>\n",
       "    </tr>\n",
       "    <tr>\n",
       "      <th>243</th>\n",
       "      <td>18.78</td>\n",
       "      <td>3.00</td>\n",
       "      <td>Female</td>\n",
       "      <td>No</td>\n",
       "      <td>Thur</td>\n",
       "      <td>Dinner</td>\n",
       "      <td>2</td>\n",
       "      <td>15.974441</td>\n",
       "    </tr>\n",
       "  </tbody>\n",
       "</table>\n",
       "<p>244 rows × 8 columns</p>\n",
       "</div>"
      ],
      "text/plain": [
       "     total_bill   tip     sex smoker   day    time  size  tip_percentage\n",
       "0         16.99  1.01  Female     No   Sun  Dinner     2        5.944673\n",
       "1         10.34  1.66    Male     No   Sun  Dinner     3       16.054159\n",
       "2         21.01  3.50    Male     No   Sun  Dinner     3       16.658734\n",
       "3         23.68  3.31    Male     No   Sun  Dinner     2       13.978041\n",
       "4         24.59  3.61  Female     No   Sun  Dinner     4       14.680765\n",
       "..          ...   ...     ...    ...   ...     ...   ...             ...\n",
       "239       29.03  5.92    Male     No   Sat  Dinner     3       20.392697\n",
       "240       27.18  2.00  Female    Yes   Sat  Dinner     2        7.358352\n",
       "241       22.67  2.00    Male    Yes   Sat  Dinner     2        8.822232\n",
       "242       17.82  1.75    Male     No   Sat  Dinner     2        9.820426\n",
       "243       18.78  3.00  Female     No  Thur  Dinner     2       15.974441\n",
       "\n",
       "[244 rows x 8 columns]"
      ]
     },
     "execution_count": 5,
     "metadata": {},
     "output_type": "execute_result"
    }
   ],
   "source": [
    "# It looks just like a pandas DataFrame! how convenient!\n",
    "tips_df"
   ]
  },
  {
   "cell_type": "markdown",
   "metadata": {
    "id": "p3nsScP9Aa67"
   },
   "source": [
    "### Making a series with cuDF\n",
    "\n",
    "There are two main data structures in cuDF: a Series object and a DataFrame object. Multiple Series objects are used as columns for a DataFrame. We'll first explore the Series class and build upon that foundation to later introduce how to work with objects of type DataFrame.\n",
    "\n",
    "We can create a Series object using the cudf.Series class."
   ]
  },
  {
   "cell_type": "code",
   "execution_count": 6,
   "metadata": {
    "colab": {
     "base_uri": "https://localhost:8080/"
    },
    "id": "HnrZPuQAAcXk",
    "outputId": "3ea97d9d-5daf-4101-ae70-cea0ed4ff04c"
   },
   "outputs": [
    {
     "data": {
      "text/plain": [
       "count    20.00000\n",
       "mean      9.50000\n",
       "std       5.91608\n",
       "min       0.00000\n",
       "25%       4.75000\n",
       "50%       9.50000\n",
       "75%      14.25000\n",
       "max      19.00000\n",
       "dtype: float64"
      ]
     },
     "execution_count": 6,
     "metadata": {},
     "output_type": "execute_result"
    }
   ],
   "source": [
    "# There are several ways to represent data using cuDF. \n",
    "# The most common formats are int8, int32, int64, float32, and float64.\n",
    "\n",
    "column = cudf.Series(range(0,20))\n",
    "\n",
    "# cuDF encapsulates the series methods for pandas, so we can use .describe() to get information\n",
    "column.describe()"
   ]
  },
  {
   "cell_type": "code",
   "execution_count": 7,
   "metadata": {
    "colab": {
     "base_uri": "https://localhost:8080/"
    },
    "id": "_38MGG2WAois",
    "outputId": "aaf475cc-2e0c-403b-bc61-841b4c67ab89"
   },
   "outputs": [
    {
     "name": "stdout",
     "output_type": "stream",
     "text": [
      "20     0\n",
      "21     1\n",
      "22     2\n",
      "23     3\n",
      "24     4\n",
      "25     5\n",
      "26     6\n",
      "27     7\n",
      "28     8\n",
      "29     9\n",
      "30    10\n",
      "31    11\n",
      "32    12\n",
      "33    13\n",
      "34    14\n",
      "35    15\n",
      "36    16\n",
      "37    17\n",
      "38    18\n",
      "39    19\n",
      "dtype: int64\n"
     ]
    }
   ],
   "source": [
    "# here's another example, We can create a new series with a different \n",
    "# index by using the set_index method.\n",
    "\n",
    "new_column = column.set_index(range(20,40)) \n",
    "print(new_column)"
   ]
  },
  {
   "cell_type": "markdown",
   "metadata": {
    "id": "Or2B8wK2B3Ql"
   },
   "source": [
    "### Creating a cuDF DataFrame using lists\n",
    "There are several ways to create a cuDF DataFrame. The easiest of these is to instantiate an empty cuDF DataFrame and then use Python list objects or NumPy arrays to create columns. Below, we create an empty cuDF DataFrame."
   ]
  },
  {
   "cell_type": "code",
   "execution_count": 8,
   "metadata": {
    "colab": {
     "base_uri": "https://localhost:8080/"
    },
    "id": "91OXT1aQB2q3",
    "outputId": "df8680be-fca6-49a2-a727-bd7bf7c5b7c9"
   },
   "outputs": [
    {
     "name": "stdout",
     "output_type": "stream",
     "text": [
      "Empty DataFrame\n",
      "Columns: []\n",
      "Index: []\n"
     ]
    }
   ],
   "source": [
    "df = cudf.DataFrame()\n",
    "print(df)"
   ]
  },
  {
   "cell_type": "code",
   "execution_count": 9,
   "metadata": {
    "colab": {
     "base_uri": "https://localhost:8080/"
    },
    "id": "kYJze5jxB71Q",
    "outputId": "40e2d32e-719f-4391-97df-9a5a04878f22"
   },
   "outputs": [
    {
     "name": "stdout",
     "output_type": "stream",
     "text": [
      "   key  value\n",
      "0    0     10\n",
      "1    1     11\n",
      "2    2     12\n",
      "3    3     13\n",
      "4    4     14\n"
     ]
    }
   ],
   "source": [
    "import numpy as np\n",
    "\n",
    "\n",
    "# here we create two columns named \"key\" and \"value\" and add them to the dataframe\n",
    "df['key'] = [0, 1, 2, 3, 4]\n",
    "df['value'] = np.arange(10, 15)\n",
    "print(df)"
   ]
  },
  {
   "cell_type": "markdown",
   "metadata": {
    "id": "vRkhrCfmCO-0"
   },
   "source": [
    "## Creating a cudf DataFrame using a list of tuples or a dictionary\n",
    "\n",
    "Another way we can create a cuDF DataFrame is by providing a mapping of column names to column values, either via a list of tuples or by using a dictionary. In the below examples, we create a list of two-value tuples; the first value is the name of the column - for example, id or timestamp - and the second value is a list of Python objects or Numpy arrays. Note that we don't have to constrain the data stored in our cuDF DataFrames to common data types like integers or floats - we can use more exotic data types such as datetimes or strings. We'll investigate how such data types behave on the GPU a bit later."
   ]
  },
  {
   "cell_type": "code",
   "execution_count": 10,
   "metadata": {
    "id": "pP8CTIc6CT5W"
   },
   "outputs": [],
   "source": [
    "from datetime import datetime, timedelta\n",
    "\n",
    "# some fake data\n",
    "ids = np.arange(5)\n",
    "t0 = datetime.strptime('2018-10-07 12:00:00', '%Y-%m-%d %H:%M:%S')\n",
    "timestamps = [(t0+ timedelta(seconds=x)) for x in range(5)]\n",
    "timestamps_np = np.array(timestamps, dtype='datetime64')"
   ]
  },
  {
   "cell_type": "code",
   "execution_count": 11,
   "metadata": {
    "colab": {
     "base_uri": "https://localhost:8080/"
    },
    "id": "VDLwbK9dCXm8",
    "outputId": "dac1c969-8ea2-4f12-d381-ffb5e0be55a0"
   },
   "outputs": [
    {
     "name": "stdout",
     "output_type": "stream",
     "text": [
      "   id           timestamp\n",
      "0   0 2018-10-07 12:00:00\n",
      "1   1 2018-10-07 12:00:01\n",
      "2   2 2018-10-07 12:00:02\n",
      "3   3 2018-10-07 12:00:03\n",
      "4   4 2018-10-07 12:00:04\n"
     ]
    }
   ],
   "source": [
    "# creating it from the dictionary format\n",
    "df = cudf.DataFrame({'id': ids, 'timestamp': timestamps_np})\n",
    "print(df)"
   ]
  },
  {
   "cell_type": "markdown",
   "metadata": {
    "id": "8bUzfAK0CmF2"
   },
   "source": [
    "## Creating a cudf DataFrame from a Pandas DataFrame\n",
    "Pandas DataFrames are a first class citizen within cuDF - this means that we can create a cuDF DataFrame from a Pandas DataFrame and vice versa."
   ]
  },
  {
   "cell_type": "code",
   "execution_count": 12,
   "metadata": {
    "colab": {
     "base_uri": "https://localhost:8080/"
    },
    "id": "FZdu_WNBCqI5",
    "outputId": "abc2a459-fca9-40ce-84e0-9f4b9eb74e71"
   },
   "outputs": [
    {
     "data": {
      "text/plain": [
       "cudf.core.dataframe.DataFrame"
      ]
     },
     "execution_count": 12,
     "metadata": {},
     "output_type": "execute_result"
    }
   ],
   "source": [
    "pandas_df = pd.DataFrame({'a': [0, 1, 2, 3, 4, 5, 6, 7, 8, 9, 10],\n",
    "                          'b': [0.0, 0.1, 0.2, None, 0.4, 0.5, 0.6, 0.7, 0.8, 0.9, 1.0]})\n",
    "\n",
    "# We can use the cudf.from_pandas or cudf.DataFrame.from_pandas functions \n",
    "# to create a cuDF DataFrame from a Pandas DataFrame.\n",
    "df = cudf.from_pandas(pandas_df)\n",
    "type(df)"
   ]
  },
  {
   "cell_type": "markdown",
   "metadata": {
    "id": "0qO2EW1KC9S4"
   },
   "source": [
    "#Data types\n",
    "We can also inspect the data types of the columns of a cuDF DataFrame using the dtypes attribute.\n",
    "\n",
    "We can also modify the data types of the columns of a cuDF DataFrame by passing in a cuDF Series with a modified data type. Be warned that silent errors may be introduced from nonsensical type conversations - for example, changing a float to an integer or vice versa."
   ]
  },
  {
   "cell_type": "code",
   "execution_count": 13,
   "metadata": {
    "colab": {
     "base_uri": "https://localhost:8080/"
    },
    "id": "_i67b_wNjy6N",
    "outputId": "733bf353-bff8-4906-887f-d996069d1a1e"
   },
   "outputs": [
    {
     "name": "stdout",
     "output_type": "stream",
     "text": [
      "<class 'cudf.core.dataframe.DataFrame'>\n",
      "RangeIndex: 5 entries, 0 to 4\n",
      "Data columns (total 2 columns):\n",
      " #   Column  Non-Null Count  Dtype\n",
      "---  ------  --------------  -----\n",
      " 0   key     5 non-null      int64\n",
      " 1   value   5 non-null      int64\n",
      "dtypes: int64(2)\n",
      "memory usage: 80.0 bytes\n"
     ]
    }
   ],
   "source": [
    "df = cudf.DataFrame()\n",
    "\n",
    "df['key'] = [0, 1, 2, 3, 4]\n",
    "df['value'] = np.arange(10, 15)\n",
    "df.info()"
   ]
  },
  {
   "cell_type": "code",
   "execution_count": 14,
   "metadata": {
    "colab": {
     "base_uri": "https://localhost:8080/"
    },
    "id": "3SpQCHl6DX1Z",
    "outputId": "7788ef5a-3f92-4b1d-98ae-64dca1ff6401"
   },
   "outputs": [
    {
     "name": "stdout",
     "output_type": "stream",
     "text": [
      "key      float32\n",
      "value      int32\n",
      "dtype: object\n"
     ]
    }
   ],
   "source": [
    "# we can cast the column value types using .astype()\n",
    "df['key'] = df['key'].astype(np.float32)\n",
    "df['value'] = df['value'].astype(np.int32)\n",
    "print(df.dtypes)"
   ]
  },
  {
   "cell_type": "markdown",
   "metadata": {
    "id": "9CZm6UzuD6-T"
   },
   "source": [
    "## cuDF API\n",
    "\n",
    "The cuDF API is pleasantly simple and mirrors the Pandas API as closely as possible. In this section, we will explore the cuDF API and show how to perform common data manipulation operations."
   ]
  },
  {
   "cell_type": "markdown",
   "metadata": {
    "id": "nZfvf82sELGd"
   },
   "source": [
    "### Selecting Rows or Columns\n",
    "We can select rows from a cuDF DataFrame using slicing syntax."
   ]
  },
  {
   "cell_type": "code",
   "execution_count": 18,
   "metadata": {
    "id": "A88gLHG0D3Pa"
   },
   "outputs": [],
   "source": [
    "df = cudf.DataFrame({'a': np.arange(0, 100).astype(np.float32), \n",
    "                     'b': np.arange(100, 0, -1).astype(np.float32)})"
   ]
  },
  {
   "cell_type": "code",
   "execution_count": 19,
   "metadata": {
    "colab": {
     "base_uri": "https://localhost:8080/"
    },
    "id": "vQL6wdGBEAQW",
    "outputId": "4db78600-c660-4f26-f5bd-c208e462f4d5"
   },
   "outputs": [
    {
     "name": "stdout",
     "output_type": "stream",
     "text": [
      "     a      b\n",
      "0  0.0  100.0\n",
      "1  1.0   99.0\n",
      "2  2.0   98.0\n",
      "3  3.0   97.0\n",
      "4  4.0   96.0\n"
     ]
    }
   ],
   "source": [
    "# slicing example\n",
    "print(df[0:5])\n"
   ]
  },
  {
   "cell_type": "code",
   "execution_count": 20,
   "metadata": {
    "colab": {
     "base_uri": "https://localhost:8080/"
    },
    "id": "3dG_rfrXEA7S",
    "outputId": "2c1066f4-d5fb-46c4-9ae7-0bf29c404a9f"
   },
   "outputs": [
    {
     "name": "stdout",
     "output_type": "stream",
     "text": [
      "0      0.0\n",
      "1      1.0\n",
      "2      2.0\n",
      "3      3.0\n",
      "4      4.0\n",
      "      ... \n",
      "95    95.0\n",
      "96    96.0\n",
      "97    97.0\n",
      "98    98.0\n",
      "99    99.0\n",
      "Name: a, Length: 100, dtype: float32\n"
     ]
    }
   ],
   "source": [
    "# selecting a column\n",
    "print(df['a'])\n"
   ]
  },
  {
   "cell_type": "code",
   "execution_count": 21,
   "metadata": {
    "colab": {
     "base_uri": "https://localhost:8080/"
    },
    "id": "i8kZDp5JEFey",
    "outputId": "0c85875d-b875-4fdb-cbd9-6d1662c94a1e"
   },
   "outputs": [
    {
     "name": "stdout",
     "output_type": "stream",
     "text": [
      "     a\n",
      "0  0.0\n",
      "1  1.0\n",
      "2  2.0\n",
      "3  3.0\n",
      "4  4.0\n",
      "5  5.0\n"
     ]
    }
   ],
   "source": [
    "# .loc() from pandas\n",
    "print(df.loc[0:5, ['a']])\n"
   ]
  },
  {
   "cell_type": "markdown",
   "metadata": {
    "id": "zJAIwAmUEPGJ"
   },
   "source": [
    "### Defining New Columns\n",
    "We often want to define new columns from existing columns."
   ]
  },
  {
   "cell_type": "code",
   "execution_count": 22,
   "metadata": {
    "id": "ckMES6Z8iK2D"
   },
   "outputs": [],
   "source": [
    "df = cudf.DataFrame({'a': np.arange(0, 100).astype(np.float32), \n",
    "                     'b': np.arange(100, 0, -1).astype(np.float32), \n",
    "                     'c': np.arange(100, 200).astype(np.float32)})"
   ]
  },
  {
   "cell_type": "code",
   "execution_count": 23,
   "metadata": {
    "colab": {
     "base_uri": "https://localhost:8080/",
     "height": 416
    },
    "id": "YPo7MJugEIBn",
    "outputId": "3dc11bee-2be8-453f-e141-fb19a55984ec"
   },
   "outputs": [
    {
     "data": {
      "text/html": [
       "<div>\n",
       "<style scoped>\n",
       "    .dataframe tbody tr th:only-of-type {\n",
       "        vertical-align: middle;\n",
       "    }\n",
       "\n",
       "    .dataframe tbody tr th {\n",
       "        vertical-align: top;\n",
       "    }\n",
       "\n",
       "    .dataframe thead th {\n",
       "        text-align: right;\n",
       "    }\n",
       "</style>\n",
       "<table border=\"1\" class=\"dataframe\">\n",
       "  <thead>\n",
       "    <tr style=\"text-align: right;\">\n",
       "      <th></th>\n",
       "      <th>a</th>\n",
       "      <th>b</th>\n",
       "      <th>c</th>\n",
       "      <th>d</th>\n",
       "    </tr>\n",
       "  </thead>\n",
       "  <tbody>\n",
       "    <tr>\n",
       "      <th>0</th>\n",
       "      <td>0.0</td>\n",
       "      <td>100.0</td>\n",
       "      <td>100.0</td>\n",
       "      <td>200.0</td>\n",
       "    </tr>\n",
       "    <tr>\n",
       "      <th>1</th>\n",
       "      <td>1.0</td>\n",
       "      <td>99.0</td>\n",
       "      <td>101.0</td>\n",
       "      <td>201.0</td>\n",
       "    </tr>\n",
       "    <tr>\n",
       "      <th>2</th>\n",
       "      <td>2.0</td>\n",
       "      <td>98.0</td>\n",
       "      <td>102.0</td>\n",
       "      <td>202.0</td>\n",
       "    </tr>\n",
       "    <tr>\n",
       "      <th>3</th>\n",
       "      <td>3.0</td>\n",
       "      <td>97.0</td>\n",
       "      <td>103.0</td>\n",
       "      <td>203.0</td>\n",
       "    </tr>\n",
       "    <tr>\n",
       "      <th>4</th>\n",
       "      <td>4.0</td>\n",
       "      <td>96.0</td>\n",
       "      <td>104.0</td>\n",
       "      <td>204.0</td>\n",
       "    </tr>\n",
       "    <tr>\n",
       "      <th>...</th>\n",
       "      <td>...</td>\n",
       "      <td>...</td>\n",
       "      <td>...</td>\n",
       "      <td>...</td>\n",
       "    </tr>\n",
       "    <tr>\n",
       "      <th>95</th>\n",
       "      <td>95.0</td>\n",
       "      <td>5.0</td>\n",
       "      <td>195.0</td>\n",
       "      <td>295.0</td>\n",
       "    </tr>\n",
       "    <tr>\n",
       "      <th>96</th>\n",
       "      <td>96.0</td>\n",
       "      <td>4.0</td>\n",
       "      <td>196.0</td>\n",
       "      <td>296.0</td>\n",
       "    </tr>\n",
       "    <tr>\n",
       "      <th>97</th>\n",
       "      <td>97.0</td>\n",
       "      <td>3.0</td>\n",
       "      <td>197.0</td>\n",
       "      <td>297.0</td>\n",
       "    </tr>\n",
       "    <tr>\n",
       "      <th>98</th>\n",
       "      <td>98.0</td>\n",
       "      <td>2.0</td>\n",
       "      <td>198.0</td>\n",
       "      <td>298.0</td>\n",
       "    </tr>\n",
       "    <tr>\n",
       "      <th>99</th>\n",
       "      <td>99.0</td>\n",
       "      <td>1.0</td>\n",
       "      <td>199.0</td>\n",
       "      <td>299.0</td>\n",
       "    </tr>\n",
       "  </tbody>\n",
       "</table>\n",
       "<p>100 rows × 4 columns</p>\n",
       "</div>"
      ],
      "text/plain": [
       "       a      b      c      d\n",
       "0    0.0  100.0  100.0  200.0\n",
       "1    1.0   99.0  101.0  201.0\n",
       "2    2.0   98.0  102.0  202.0\n",
       "3    3.0   97.0  103.0  203.0\n",
       "4    4.0   96.0  104.0  204.0\n",
       "..   ...    ...    ...    ...\n",
       "95  95.0    5.0  195.0  295.0\n",
       "96  96.0    4.0  196.0  296.0\n",
       "97  97.0    3.0  197.0  297.0\n",
       "98  98.0    2.0  198.0  298.0\n",
       "99  99.0    1.0  199.0  299.0\n",
       "\n",
       "[100 rows x 4 columns]"
      ]
     },
     "execution_count": 23,
     "metadata": {},
     "output_type": "execute_result"
    }
   ],
   "source": [
    "# as we saw before, we can add columns using df['column_name'] or df.column_name\n",
    "df['d'] = np.arange(200, 300).astype(np.float32)\n",
    "df"
   ]
  },
  {
   "cell_type": "markdown",
   "metadata": {
    "id": "15aodhPMEhSs"
   },
   "source": [
    "## cuDF DataFrame methods"
   ]
  },
  {
   "cell_type": "markdown",
   "metadata": {
    "id": "S3UoXdvSf9Mp"
   },
   "source": [
    "### Dropping Columns\n",
    "Alternatively, we may want to remove columns from our DataFrame. We can do so using the drop_column method. Note that this method removes a column in-place - meaning that the DataFrame we act on will be modified."
   ]
  },
  {
   "cell_type": "code",
   "execution_count": 24,
   "metadata": {
    "id": "iUOEhDQkiHb_"
   },
   "outputs": [],
   "source": [
    "df = cudf.DataFrame({'a': np.arange(0, 100).astype(np.float32), \n",
    "                     'b': np.arange(100, 0, -1).astype(np.float32), \n",
    "                     'c': np.arange(100, 200).astype(np.float32)})"
   ]
  },
  {
   "cell_type": "code",
   "execution_count": 25,
   "metadata": {
    "colab": {
     "base_uri": "https://localhost:8080/"
    },
    "id": "m2f3axvAEi6N",
    "outputId": "27c1302b-a7ef-4927-d1f7-a75d81355c0a"
   },
   "outputs": [
    {
     "name": "stdout",
     "output_type": "stream",
     "text": [
      "       a      c\n",
      "0    0.0  100.0\n",
      "1    1.0  101.0\n",
      "2    2.0  102.0\n",
      "3    3.0  103.0\n",
      "4    4.0  104.0\n",
      "..   ...    ...\n",
      "95  95.0  195.0\n",
      "96  96.0  196.0\n",
      "97  97.0  197.0\n",
      "98  98.0  198.0\n",
      "99  99.0  199.0\n",
      "\n",
      "[100 rows x 2 columns]\n"
     ]
    }
   ],
   "source": [
    "# same as in pandas!\n",
    "df.drop(['b'], axis=1, inplace = True)\n",
    "print(df)"
   ]
  },
  {
   "cell_type": "markdown",
   "metadata": {
    "id": "vtnNwVbaJeRy"
   },
   "source": [
    "### Sorting Data\n",
    "Data is often not sorted before we start to work with it. Sorting data is is very useful for optimizing operations like joins and aggregations, especially when the data is distributed.\n",
    "\n",
    "We can sort data in cuDF using the sort_values method and passing in which column we want to sort by."
   ]
  },
  {
   "cell_type": "code",
   "execution_count": 26,
   "metadata": {
    "colab": {
     "base_uri": "https://localhost:8080/"
    },
    "id": "GPam0FOLJfwZ",
    "outputId": "6ecc0a42-7f41-4c70-faf2-0e83d4d4e023"
   },
   "outputs": [
    {
     "name": "stdout",
     "output_type": "stream",
     "text": [
      "   a  b  c    d\n",
      "0  0  1  0  100\n",
      "1  0  1  1   99\n",
      "2  0  0  2   98\n",
      "3  0  0  3   97\n",
      "4  0  0  4   96\n"
     ]
    }
   ],
   "source": [
    "\n",
    "df = cudf.DataFrame({'a': np.repeat([0, 1, 2, 3], 25).astype(np.int32), \n",
    "                     'b': np.random.randint(2, size=100).astype(np.int32), \n",
    "                     'c': np.arange(0, 100).astype(np.int32), \n",
    "                     'd': np.arange(100, 0, -1).astype(np.int32)})\n",
    "print(df.head())"
   ]
  },
  {
   "cell_type": "code",
   "execution_count": 27,
   "metadata": {
    "colab": {
     "base_uri": "https://localhost:8080/"
    },
    "id": "Qna6tLYpJhU2",
    "outputId": "3f4b9dae-267d-4aba-a580-dafd9d604ed5"
   },
   "outputs": [
    {
     "name": "stdout",
     "output_type": "stream",
     "text": [
      "    a  b   c  d\n",
      "99  3  1  99  1\n",
      "98  3  0  98  2\n",
      "97  3  1  97  3\n",
      "96  3  0  96  4\n",
      "95  3  1  95  5\n"
     ]
    }
   ],
   "source": [
    "# use sort values to sort by a specific column label\n",
    "print(df.sort_values('d').head())\n"
   ]
  },
  {
   "cell_type": "markdown",
   "metadata": {
    "id": "ggU4zAaVgM3b"
   },
   "source": [
    "### Concatenations\n",
    "\n",
    "In everyday data science, we typically work with multiple sources of data and wish to combine these data into a single more meaningful representation. These operations are often called concatenations and joins. We can concatenate two or more dataframes together row-wise or column-wise by passing in a list of the dataframes to be concatenated into the cudf.concat function and specifying the axis along which to concatenate these dataframes.\n",
    "\n",
    "If we want to concatenate the dataframes row-wise, we can specify axis=0. To concatenate column-wise, we can specify axis=1."
   ]
  },
  {
   "cell_type": "code",
   "execution_count": 28,
   "metadata": {
    "id": "kYxt7tX_gNih"
   },
   "outputs": [],
   "source": [
    "df1 = cudf.DataFrame({'a': np.repeat([0, 1, 2, 3], 25).astype(np.int32), \n",
    "                      'b': np.random.randint(2, size=100).astype(np.int32), \n",
    "                      'c': np.arange(0, 100).astype(np.int32), \n",
    "                      'd': np.arange(100, 0, -1).astype(np.int32)})\n",
    "df2 = cudf.DataFrame({'a': np.repeat([0, 1, 2, 3], 25).astype(np.int32), \n",
    "                      'b': np.random.randint(2, size=100).astype(np.int32), \n",
    "                      'c': np.arange(0, 100).astype(np.int32), \n",
    "                      'd': np.arange(100, 0, -1).astype(np.int32)})"
   ]
  },
  {
   "cell_type": "code",
   "execution_count": 29,
   "metadata": {
    "colab": {
     "base_uri": "https://localhost:8080/",
     "height": 416
    },
    "id": "SsNRBcNjgVKt",
    "outputId": "c50c998f-8210-42fa-9b0a-b7eade26763e"
   },
   "outputs": [
    {
     "data": {
      "text/html": [
       "<div>\n",
       "<style scoped>\n",
       "    .dataframe tbody tr th:only-of-type {\n",
       "        vertical-align: middle;\n",
       "    }\n",
       "\n",
       "    .dataframe tbody tr th {\n",
       "        vertical-align: top;\n",
       "    }\n",
       "\n",
       "    .dataframe thead th {\n",
       "        text-align: right;\n",
       "    }\n",
       "</style>\n",
       "<table border=\"1\" class=\"dataframe\">\n",
       "  <thead>\n",
       "    <tr style=\"text-align: right;\">\n",
       "      <th></th>\n",
       "      <th>a</th>\n",
       "      <th>b</th>\n",
       "      <th>c</th>\n",
       "      <th>d</th>\n",
       "    </tr>\n",
       "  </thead>\n",
       "  <tbody>\n",
       "    <tr>\n",
       "      <th>0</th>\n",
       "      <td>0</td>\n",
       "      <td>0</td>\n",
       "      <td>0</td>\n",
       "      <td>100</td>\n",
       "    </tr>\n",
       "    <tr>\n",
       "      <th>1</th>\n",
       "      <td>0</td>\n",
       "      <td>1</td>\n",
       "      <td>1</td>\n",
       "      <td>99</td>\n",
       "    </tr>\n",
       "    <tr>\n",
       "      <th>2</th>\n",
       "      <td>0</td>\n",
       "      <td>1</td>\n",
       "      <td>2</td>\n",
       "      <td>98</td>\n",
       "    </tr>\n",
       "    <tr>\n",
       "      <th>3</th>\n",
       "      <td>0</td>\n",
       "      <td>1</td>\n",
       "      <td>3</td>\n",
       "      <td>97</td>\n",
       "    </tr>\n",
       "    <tr>\n",
       "      <th>4</th>\n",
       "      <td>0</td>\n",
       "      <td>0</td>\n",
       "      <td>4</td>\n",
       "      <td>96</td>\n",
       "    </tr>\n",
       "    <tr>\n",
       "      <th>...</th>\n",
       "      <td>...</td>\n",
       "      <td>...</td>\n",
       "      <td>...</td>\n",
       "      <td>...</td>\n",
       "    </tr>\n",
       "    <tr>\n",
       "      <th>95</th>\n",
       "      <td>3</td>\n",
       "      <td>0</td>\n",
       "      <td>95</td>\n",
       "      <td>5</td>\n",
       "    </tr>\n",
       "    <tr>\n",
       "      <th>96</th>\n",
       "      <td>3</td>\n",
       "      <td>0</td>\n",
       "      <td>96</td>\n",
       "      <td>4</td>\n",
       "    </tr>\n",
       "    <tr>\n",
       "      <th>97</th>\n",
       "      <td>3</td>\n",
       "      <td>1</td>\n",
       "      <td>97</td>\n",
       "      <td>3</td>\n",
       "    </tr>\n",
       "    <tr>\n",
       "      <th>98</th>\n",
       "      <td>3</td>\n",
       "      <td>0</td>\n",
       "      <td>98</td>\n",
       "      <td>2</td>\n",
       "    </tr>\n",
       "    <tr>\n",
       "      <th>99</th>\n",
       "      <td>3</td>\n",
       "      <td>0</td>\n",
       "      <td>99</td>\n",
       "      <td>1</td>\n",
       "    </tr>\n",
       "  </tbody>\n",
       "</table>\n",
       "<p>200 rows × 4 columns</p>\n",
       "</div>"
      ],
      "text/plain": [
       "    a  b   c    d\n",
       "0   0  0   0  100\n",
       "1   0  1   1   99\n",
       "2   0  1   2   98\n",
       "3   0  1   3   97\n",
       "4   0  0   4   96\n",
       ".. .. ..  ..  ...\n",
       "95  3  0  95    5\n",
       "96  3  0  96    4\n",
       "97  3  1  97    3\n",
       "98  3  0  98    2\n",
       "99  3  0  99    1\n",
       "\n",
       "[200 rows x 4 columns]"
      ]
     },
     "execution_count": 29,
     "metadata": {},
     "output_type": "execute_result"
    }
   ],
   "source": [
    "# use .concat() to combine two cudf dataframes with the same columns\n",
    "df = cudf.concat([df1, df2], axis=0)\n",
    "df"
   ]
  },
  {
   "cell_type": "markdown",
   "metadata": {
    "id": "4MwzOvEHgpgs"
   },
   "source": [
    "### Joins / Merges\n",
    "Multiple dataframes can be joined together using a single (or multiple) column(s). There are two syntaxes for performing joins:\n",
    "\n",
    "One can use the DataFrame.merge method and pass in another dataframe to join, or\n",
    "One can use the cudf.merge function and pass in which dataframes to join.\n",
    "Both syntaxes can also be passed a list of column names to an additional keyword argument on - this will specify which columns the dataframes should be joined on. If this keyword is not specified, cuDF will by default join using column names that appear in both dataframes."
   ]
  },
  {
   "cell_type": "code",
   "execution_count": 30,
   "metadata": {
    "id": "y30s47FogkJL"
   },
   "outputs": [],
   "source": [
    "df1 = cudf.DataFrame({'a': np.repeat([0, 1, 2, 3], 25).astype(np.int32), \n",
    "                      'b': np.random.randint(2, size=100).astype(np.int32), \n",
    "                      'c': np.arange(0, 100).astype(np.int32), \n",
    "                      'd': np.arange(100, 0, -1).astype(np.int32)})\n",
    "df2 = cudf.DataFrame({'a': np.repeat([0, 1, 2, 3], 25).astype(np.int32), \n",
    "                      'b': np.random.randint(2, size=100).astype(np.int32), \n",
    "                      'e': np.arange(0, 100).astype(np.int32), \n",
    "                      'f': np.arange(100, 0, -1).astype(np.int32)})"
   ]
  },
  {
   "cell_type": "code",
   "execution_count": 31,
   "metadata": {
    "colab": {
     "base_uri": "https://localhost:8080/"
    },
    "id": "gPGfM-bMgs7G",
    "outputId": "4f764b4f-b051-4dea-e8ab-d40a5f5cdc89"
   },
   "outputs": [
    {
     "name": "stdout",
     "output_type": "stream",
     "text": [
      "   a  b   c    d  e    f\n",
      "0  0  1   0  100  0  100\n",
      "1  0  1  16   84  0  100\n",
      "2  0  1   8   92  0  100\n",
      "3  0  1  24   76  0  100\n",
      "4  0  0   1   99  3   97\n"
     ]
    }
   ],
   "source": [
    "# use merge to to join two dataframes with the same number of records\n",
    "df = df1.merge(df2)\n",
    "print(df.head())"
   ]
  },
  {
   "cell_type": "code",
   "execution_count": 32,
   "metadata": {
    "colab": {
     "base_uri": "https://localhost:8080/"
    },
    "id": "4KE0Y3KAg3pe",
    "outputId": "cb2cc5ec-8132-4388-a464-66908af8ccfb"
   },
   "outputs": [
    {
     "name": "stdout",
     "output_type": "stream",
     "text": [
      "   a  b   c    d  e    f\n",
      "0  0  1   0  100  0  100\n",
      "1  0  1  16   84  0  100\n",
      "2  0  1   8   92  0  100\n",
      "3  0  1  24   76  0  100\n",
      "4  0  0   1   99  3   97\n"
     ]
    }
   ],
   "source": [
    "# alternate path to same result\n",
    "df = cudf.merge(df1, df2)\n",
    "print(df.head())"
   ]
  },
  {
   "cell_type": "code",
   "execution_count": 33,
   "metadata": {
    "colab": {
     "base_uri": "https://localhost:8080/"
    },
    "id": "ek6_pPxigxxf",
    "outputId": "b0f5b178-0624-467a-bcd9-edd9ecef1bd5"
   },
   "outputs": [
    {
     "name": "stdout",
     "output_type": "stream",
     "text": [
      "   a  b_x   c    d  b_y  e    f\n",
      "0  0    1   0  100    1  0  100\n",
      "1  0    1  16   84    1  0  100\n",
      "2  0    1   8   92    1  0  100\n",
      "3  0    1  24   76    1  0  100\n",
      "4  0    0   1   99    1  0  100\n"
     ]
    }
   ],
   "source": [
    "# use the on key word to do an sql-like primary key assignment\n",
    "# the parameter 'on' lets you choos which column or index level names to join on.\n",
    "#  These must be found in both DataFrames. If on is None and not merging on indexes\n",
    "#  then this defaults to the intersection of the columns in both DataFrames.\n",
    "df = df1.merge(df2, on=['a'])\n",
    "print(df.head())"
   ]
  },
  {
   "cell_type": "code",
   "execution_count": 34,
   "metadata": {
    "colab": {
     "base_uri": "https://localhost:8080/"
    },
    "id": "tkdQ3b7ogywQ",
    "outputId": "a041a35a-2993-4809-e914-eb8464062025"
   },
   "outputs": [
    {
     "name": "stdout",
     "output_type": "stream",
     "text": [
      "   a  b_x   c   d  b_y   e   f\n",
      "0  2    1  64  36    1  64  36\n",
      "1  3    1  80  20    1  96   4\n",
      "2  2    1  72  28    1  64  36\n",
      "3  3    0  88  12    1  96   4\n",
      "4  2    0  65  35    1  64  36\n"
     ]
    }
   ],
   "source": [
    "df = cudf.merge(df1, df2, on=['a'])\n",
    "print(df.head())"
   ]
  },
  {
   "cell_type": "code",
   "execution_count": 35,
   "metadata": {
    "colab": {
     "base_uri": "https://localhost:8080/"
    },
    "id": "cwGHdh2Ng-ae",
    "outputId": "b23e7dc0-05e6-4eb4-ade7-374692483608"
   },
   "outputs": [
    {
     "name": "stdout",
     "output_type": "stream",
     "text": [
      "   a  b   c    d  e    f\n",
      "0  0  1   0  100  0  100\n",
      "1  0  1  16   84  0  100\n",
      "2  0  1   8   92  0  100\n",
      "3  0  1  24   76  0  100\n",
      "4  0  0   1   99  3   97\n"
     ]
    }
   ],
   "source": [
    "df = cudf.merge(df1, df2, on=['a', 'b'])\n",
    "print(df.head())"
   ]
  },
  {
   "cell_type": "markdown",
   "metadata": {
    "id": "YHrOXKNvhGih"
   },
   "source": [
    "### Groupbys¶\n",
    "\n",
    "A useful operation when working with datasets is to group the data using a specific key and aggregate the values mapping to those keys. For example, we might want to aggregate multiple temperature measurements taken during a day from a specific sensor and average those measurements to find avergage daily temperature at a specific geolocation.\n",
    "\n",
    "cuDF allows us to perform such an operation using the groupby method. This will create an object of type cudf.groupby.groupby.Groupby that we can operate on using aggregation functions such as sum, var, or complex aggregation functions defined by the user.\n",
    "\n",
    "We can also specify multiple columns to group on by passing a list of column names to the groupby method."
   ]
  },
  {
   "cell_type": "code",
   "execution_count": 36,
   "metadata": {
    "colab": {
     "base_uri": "https://localhost:8080/"
    },
    "id": "r8DsB08jhgKm",
    "outputId": "6533b516-034f-446e-9759-052766c82947"
   },
   "outputs": [
    {
     "name": "stdout",
     "output_type": "stream",
     "text": [
      "   a  b  c    d\n",
      "0  0  0  0  100\n",
      "1  0  1  1   99\n",
      "2  0  0  2   98\n",
      "3  0  1  3   97\n",
      "4  0  0  4   96\n"
     ]
    }
   ],
   "source": [
    "df = cudf.DataFrame({'a': np.repeat([0, 1, 2, 3], 25).astype(np.int32), \n",
    "                     'b': np.random.randint(2, size=100).astype(np.int32), \n",
    "                     'c': np.arange(0, 100).astype(np.int32), \n",
    "                     'd': np.arange(100, 0, -1).astype(np.int32)})\n",
    "print(df.head())"
   ]
  },
  {
   "cell_type": "code",
   "execution_count": 37,
   "metadata": {
    "colab": {
     "base_uri": "https://localhost:8080/"
    },
    "id": "XYw3j1JvhgkX",
    "outputId": "3e41f23d-0b79-4610-909c-77e6262fc9ec"
   },
   "outputs": [
    {
     "name": "stdout",
     "output_type": "stream",
     "text": [
      "    b     c     d\n",
      "a                \n",
      "0  14   300  2200\n",
      "2  15  1550   950\n",
      "3  12  2175   325\n",
      "1  13   925  1575\n"
     ]
    }
   ],
   "source": [
    "# let's group by the 0-3 numbers in the 'a' column\n",
    "grouped_df = df.groupby('a')\n",
    "# we can then apply aggregate functions to make insights about these groups.\n",
    "aggregation = grouped_df.sum()\n",
    "print(aggregation)"
   ]
  },
  {
   "cell_type": "markdown",
   "metadata": {
    "id": "rjrlSPFOJyYz"
   },
   "source": [
    "### Statistical Operations\n",
    "There are several statistical operations we can use to aggregate our data in meaningful ways. These can be applied to both Series and DataFrame objects."
   ]
  },
  {
   "cell_type": "code",
   "execution_count": 38,
   "metadata": {
    "id": "npD1FngYJ0GN"
   },
   "outputs": [],
   "source": [
    "df = cudf.DataFrame({'a': np.repeat([0, 1, 2, 3], 25).astype(np.int32), \n",
    "                     'b': np.random.randint(2, size=100).astype(np.int32), \n",
    "                     'c': np.arange(0, 100).astype(np.int32), \n",
    "                     'd': np.arange(100, 0, -1).astype(np.int32)})"
   ]
  },
  {
   "cell_type": "code",
   "execution_count": 39,
   "metadata": {
    "colab": {
     "base_uri": "https://localhost:8080/"
    },
    "id": "UQ5fahkhJ4Ag",
    "outputId": "94f28dc9-22e0-4953-dc24-328316b4ea5c"
   },
   "outputs": [
    {
     "data": {
      "text/plain": [
       "150"
      ]
     },
     "execution_count": 39,
     "metadata": {},
     "output_type": "execute_result"
    }
   ],
   "source": [
    "# Aggregate functions can be applied on a column by column basis\n",
    "# examples include sum(), mean(), median(), min(), and max()\n",
    "df['a'].sum()"
   ]
  },
  {
   "cell_type": "code",
   "execution_count": 40,
   "metadata": {
    "colab": {
     "base_uri": "https://localhost:8080/"
    },
    "id": "VLAJzRdfoiRY",
    "outputId": "55624f71-8d6e-4356-ccdb-d074b1158c22"
   },
   "outputs": [
    {
     "data": {
      "text/plain": [
       "100"
      ]
     },
     "execution_count": 40,
     "metadata": {},
     "output_type": "execute_result"
    }
   ],
   "source": [
    "df['d'].max()"
   ]
  },
  {
   "cell_type": "markdown",
   "metadata": {
    "id": "EI3WawmWKP9c"
   },
   "source": [
    "### Histogramming\n",
    "We can access the value counts of a column using the value_counts method. Note that this is typically used with columns representing discrete data i.e. integers, strings, categoricals, etc. We may not be as interested in the value counts of numerical data e.g. how often the value 2.1 appears. The results of the value_counts method can be used with Python plotting libraries like Matplotlib or Seaborn to generate visualizations such as histograms."
   ]
  },
  {
   "cell_type": "code",
   "execution_count": 41,
   "metadata": {
    "colab": {
     "base_uri": "https://localhost:8080/"
    },
    "id": "3BxLPAUEJ4aq",
    "outputId": "cd8a3c06-a082-4c65-e034-d9ff227e8e70"
   },
   "outputs": [
    {
     "name": "stdout",
     "output_type": "stream",
     "text": [
      "0    25\n",
      "2    25\n",
      "3    25\n",
      "1    25\n",
      "Name: a, dtype: int32\n"
     ]
    }
   ],
   "source": [
    "result = df['a'].value_counts()\n",
    "print(result)"
   ]
  },
  {
   "cell_type": "markdown",
   "metadata": {
    "id": "L0BPoIc1JN9W"
   },
   "source": [
    "## Missing Data\n",
    "\n",
    "Sometimes data is not as clean as we would like it - often there wrong values or values that are missing entirely. cuDF DataFrames can represent missing values using the Python None keyword."
   ]
  },
  {
   "cell_type": "code",
   "execution_count": 42,
   "metadata": {
    "colab": {
     "base_uri": "https://localhost:8080/"
    },
    "id": "jvOE1_GmJMob",
    "outputId": "31c88caf-84f9-4e48-94fe-82a773c749ca"
   },
   "outputs": [
    {
     "name": "stdout",
     "output_type": "stream",
     "text": [
      "       a     b     c\n",
      "0      0   0.0   0.0\n",
      "1   <NA>   0.1   0.1\n",
      "2      2   0.2  <NA>\n",
      "3      3  <NA>  <NA>\n",
      "4      4   0.4   0.4\n",
      "5      5   0.5   0.5\n",
      "6      6   0.6  <NA>\n",
      "7      7   0.7   0.7\n",
      "8      8   0.8   0.8\n",
      "9   <NA>   0.9   0.9\n",
      "10    10   1.0   1.0\n"
     ]
    }
   ],
   "source": [
    "\n",
    "df = cudf.DataFrame({'a': [0, None, 2, 3, 4, 5, 6, 7, 8, None, 10],\n",
    "                     'b': [0.0, 0.1, 0.2, None, 0.4, 0.5, 0.6, 0.7, 0.8, 0.9, 1.0], \n",
    "                     'c': [0.0, 0.1, None, None, 0.4, 0.5, None, 0.7, 0.8, 0.9, 1.0]})\n",
    "print(df)"
   ]
  },
  {
   "cell_type": "code",
   "execution_count": 43,
   "metadata": {
    "colab": {
     "base_uri": "https://localhost:8080/"
    },
    "id": "sw_ZxyNCJUBq",
    "outputId": "06f5bddc-5ea1-4861-ee57-66088d202635"
   },
   "outputs": [
    {
     "name": "stdout",
     "output_type": "stream",
     "text": [
      "       a     b      c\n",
      "0      0   0.0    0.0\n",
      "1   <NA>   0.1    0.1\n",
      "2      2   0.2  999.0\n",
      "3      3  <NA>  999.0\n",
      "4      4   0.4    0.4\n",
      "5      5   0.5    0.5\n",
      "6      6   0.6  999.0\n",
      "7      7   0.7    0.7\n",
      "8      8   0.8    0.8\n",
      "9   <NA>   0.9    0.9\n",
      "10    10   1.0    1.0\n"
     ]
    }
   ],
   "source": [
    "# the .fillna() method from pandas is conserved to cudf\n",
    "df['c'] = df['c'].fillna(999)\n",
    "print(df)"
   ]
  },
  {
   "cell_type": "markdown",
   "metadata": {
    "id": "reNHgY-mi_JB"
   },
   "source": [
    "### One Hot Encoding¶\n",
    "Data scientists often work with discrete data such as integers or categories. However, this data can be represented using a One Hote Encoding format.\n",
    "\n",
    "cuDF allows us to convert these discrete datas to a One Hot Encoding format using the one_hot_encoding method. We can pass this method the column name to convert, a prefix with which to prepend to each newly created column, and the categories of data to create new columns for. We can pass in all the categories in the discrete data or a subset - cuDF will flexibly handle both and only create new columns for the categories specified."
   ]
  },
  {
   "cell_type": "code",
   "execution_count": 44,
   "metadata": {
    "colab": {
     "base_uri": "https://localhost:8080/"
    },
    "id": "c-5kJvf7jBOf",
    "outputId": "959ca4d4-05e3-498e-9220-47b1896357d7"
   },
   "outputs": [
    {
     "name": "stdout",
     "output_type": "stream",
     "text": [
      "   a  b    c\n",
      "0  0  0  100\n",
      "1  0  1   99\n",
      "2  0  2   98\n",
      "3  0  3   97\n",
      "4  0  4   96\n"
     ]
    }
   ],
   "source": [
    "categories = [0, 1, 2, 3]\n",
    "df = cudf.DataFrame({'a': np.repeat(categories, 25).astype(np.int32), \n",
    "                     'b': np.arange(0, 100).astype(np.int32), \n",
    "                     'c': np.arange(100, 0, -1).astype(np.int32)})\n",
    "print(df.head())"
   ]
  },
  {
   "cell_type": "code",
   "execution_count": 45,
   "metadata": {
    "colab": {
     "base_uri": "https://localhost:8080/"
    },
    "id": "g93Df71ljBS8",
    "outputId": "c772852a-8e2c-44a5-e903-3ea14b839e9e"
   },
   "outputs": [
    {
     "name": "stdout",
     "output_type": "stream",
     "text": [
      "   a  b    c  a__0  a__1  a__2  a__3\n",
      "0  0  0  100   1.0   0.0   0.0   0.0\n",
      "1  0  1   99   1.0   0.0   0.0   0.0\n",
      "2  0  2   98   1.0   0.0   0.0   0.0\n",
      "3  0  3   97   1.0   0.0   0.0   0.0\n",
      "4  0  4   96   1.0   0.0   0.0   0.0\n",
      "    a   b  c  a__0  a__1  a__2  a__3\n",
      "95  3  95  5   0.0   0.0   0.0   1.0\n",
      "96  3  96  4   0.0   0.0   0.0   1.0\n",
      "97  3  97  3   0.0   0.0   0.0   1.0\n",
      "98  3  98  2   0.0   0.0   0.0   1.0\n",
      "99  3  99  1   0.0   0.0   0.0   1.0\n"
     ]
    }
   ],
   "source": [
    "result = df.one_hot_encoding('a', prefix='a_', cats=categories)\n",
    "print(result.head())\n",
    "print(result.tail())"
   ]
  },
  {
   "cell_type": "code",
   "execution_count": 46,
   "metadata": {
    "colab": {
     "base_uri": "https://localhost:8080/"
    },
    "id": "5yWp25S4jBZZ",
    "outputId": "3b96a4bf-f6c9-418d-8c33-e5bef088aef6"
   },
   "outputs": [
    {
     "name": "stdout",
     "output_type": "stream",
     "text": [
      "   a  b    c  a__0  a__1  a__2\n",
      "0  0  0  100   1.0   0.0   0.0\n",
      "1  0  1   99   1.0   0.0   0.0\n",
      "2  0  2   98   1.0   0.0   0.0\n",
      "3  0  3   97   1.0   0.0   0.0\n",
      "4  0  4   96   1.0   0.0   0.0\n",
      "    a   b  c  a__0  a__1  a__2\n",
      "95  3  95  5   0.0   0.0   0.0\n",
      "96  3  96  4   0.0   0.0   0.0\n",
      "97  3  97  3   0.0   0.0   0.0\n",
      "98  3  98  2   0.0   0.0   0.0\n",
      "99  3  99  1   0.0   0.0   0.0\n"
     ]
    }
   ],
   "source": [
    "# you can change which values are one hot encoded using the cats parameter\n",
    "result = df.one_hot_encoding('a', prefix='a_', cats=[0, 1, 2])\n",
    "print(result.head())\n",
    "print(result.tail())"
   ]
  },
  {
   "cell_type": "markdown",
   "metadata": {
    "id": "Dlsyk9m9NN2K"
   },
   "source": [
    "# Next Steps #\n",
    "\n",
    "For an overview of how you can access and work with your own datasets in Colab, check out [this guide](https://towardsdatascience.com/3-ways-to-load-csv-files-into-colab-7c14fcbdcb92).\n",
    "\n",
    "For more RAPIDS examples, check out our RAPIDS notebooks repos:\n",
    "1. https://github.com/rapidsai/notebooks\n",
    "2. https://github.com/rapidsai/notebooks-contrib"
   ]
  }
 ],
 "metadata": {
  "accelerator": "GPU",
  "colab": {
   "collapsed_sections": [],
   "name": "Intro to RapidsAI: Crash Course.ipynb",
   "provenance": []
  },
  "kernelspec": {
   "display_name": "Python 3",
   "language": "python",
   "name": "python3"
  },
  "language_info": {
   "codemirror_mode": {
    "name": "ipython",
    "version": 3
   },
   "file_extension": ".py",
   "mimetype": "text/x-python",
   "name": "python",
   "nbconvert_exporter": "python",
   "pygments_lexer": "ipython3",
   "version": "3.7.10"
  }
 },
 "nbformat": 4,
 "nbformat_minor": 4
}
